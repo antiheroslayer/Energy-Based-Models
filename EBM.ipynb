{
 "cells": [
  {
   "cell_type": "markdown",
   "metadata": {},
   "source": [
    "# Data Preprocessing"
   ]
  },
  {
   "cell_type": "code",
   "execution_count": 1,
   "metadata": {},
   "outputs": [],
   "source": [
    "%matplotlib inline\n",
    "import cv2\n",
    "import numpy as np\n",
    "import matplotlib.pyplot as plt\n",
    "from IPython import display\n",
    "import pandas as pd\n",
    "import torch\n",
    "import torch.autograd as autograd\n",
    "import torch.nn as nn\n",
    "import torch.nn.functional as F\n",
    "from torch.optim import Adam\n",
    "from torch.utils.data import TensorDataset, DataLoader\n",
    "from tqdm import tqdm\n",
    "import os\n",
    "\n",
    "os.environ['KMP_DUPLICATE_LIB_OK']='True'"
   ]
  },
  {
   "cell_type": "code",
   "execution_count": 2,
   "metadata": {},
   "outputs": [],
   "source": [
    "def load_horses_orig(path, image_size):   \n",
    "    mask_path = path + 'masks/'\n",
    "    image_path = path + 'images/'\n",
    "    images = []\n",
    "    masks = []\n",
    "    test_images= []\n",
    "    test_masks =[]\n",
    "    for i in range(328):\n",
    "        \n",
    "        orig_im = cv2.imread(image_path + 'image-{}.png'.format(i))\n",
    "        orig_im= cv2.cvtColor(orig_im, cv2.COLOR_RGB2BGR)\n",
    "        \n",
    "        low_im = cv2.resize(orig_im, dsize=(image_size, image_size))\n",
    "\n",
    "        orig_mask = cv2.imread(mask_path + 'mask-{}.png'.format(i))\n",
    "        low_mask = cv2.resize(orig_mask, dsize=(image_size, image_size))\n",
    "        low_mask = cv2.cvtColor(low_mask, cv2.COLOR_RGB2GRAY)\n",
    "        bin_mask = (low_mask > 0) + 0\n",
    "        \n",
    "    \n",
    "        images.append(low_im)\n",
    "        masks.append(bin_mask)\n",
    "\n",
    "\n",
    "    xtest = np.reshape(np.array(images[250:]), (-1,image_size*image_size*3))\n",
    "    ytest = np.reshape(np.array(masks[250:]), (-1, image_size * image_size))\n",
    "    xdata = np.reshape(np.array(images[:200]), (-1,image_size*image_size*3))\n",
    "    ydata = np.reshape(np.array(masks[:200]), (-1, image_size * image_size))\n",
    "    yval =  np.reshape(np.array(masks[200:250]), (-1, image_size * image_size))\n",
    "    xval = np.reshape(np.array(images[200:250]), (-1,image_size*image_size*3))\n",
    "\n",
    "    return xdata, xval, xtest, ydata, yval, ytest\n"
   ]
  },
  {
   "cell_type": "code",
   "execution_count": 3,
   "metadata": {},
   "outputs": [],
   "source": [
    "#change the path address \n",
    "path = 'horses/'\n",
    "image_size = 32\n",
    "xdata, xval, xtest, ydata, yval, ytest = load_horses_orig(path, image_size)"
   ]
  },
  {
   "cell_type": "code",
   "execution_count": 4,
   "metadata": {},
   "outputs": [],
   "source": [
    "def draw(image, mask):\n",
    "  fig, (ax1,ax2) = plt.subplots(1,2) \n",
    "  ax1.axis('off')\n",
    "  ax2.axis('off')\n",
    "  ax1.imshow(np.reshape(image, (image_size,image_size,3)))\n",
    "  ax2.imshow(np.reshape(mask, (image_size,image_size)), cmap=plt.cm.gray)\n",
    "  plt.show()"
   ]
  },
  {
   "cell_type": "code",
   "execution_count": 5,
   "metadata": {},
   "outputs": [
    {
     "data": {
      "image/png": "[encoded data removed]",
      "text/plain": [
       "<Figure size 432x288 with 2 Axes>"
      ]
     },
     "metadata": {
      "needs_background": "light"
     },
     "output_type": "display_data"
    }
   ],
   "source": [
    "draw(xdata[0], ydata[0])"
   ]
  },
  {
   "cell_type": "markdown",
   "metadata": {},
   "source": [
    "# Langevin Sampling"
   ]
  },
  {
   "cell_type": "code",
   "execution_count": 6,
   "metadata": {},
   "outputs": [],
   "source": [
    "def sample_langevin(x, model, stepsize, n_steps, noise_scale=None, intermediate_samples=False):\n",
    "    if noise_scale is None:\n",
    "        noise_scale = np.sqrt(stepsize * 2)\n",
    "\n",
    "    l_samples = []\n",
    "    l_dynamics = []\n",
    "    x.requires_grad = True\n",
    "    for _ in range(n_steps):\n",
    "        l_samples.append(x.detach().to('cpu'))\n",
    "        noise = torch.randn_like(x) * noise_scale\n",
    "        out = model(x)\n",
    "        grad = autograd.grad(out.sum(), x, only_inputs=True)[0]\n",
    "        dynamics = stepsize * grad + noise\n",
    "        x = x + dynamics\n",
    "        l_samples.append(x.detach().to('cpu'))\n",
    "        l_dynamics.append(dynamics.detach().to('cpu'))\n",
    "\n",
    "    if intermediate_samples:\n",
    "        return l_samples, l_dynamics\n",
    "    else:\n",
    "        return l_samples[-1]"
   ]
  },
  {
   "cell_type": "markdown",
   "metadata": {},
   "source": [
    "# Fully Connected Model"
   ]
  },
  {
   "cell_type": "code",
   "execution_count": 7,
   "metadata": {},
   "outputs": [],
   "source": [
    "def get_activation(s_act):\n",
    "    if s_act == 'relu':\n",
    "        return nn.ReLU(inplace=True)\n",
    "    elif s_act == 'sigmoid':\n",
    "        return nn.Sigmoid()\n",
    "    elif s_act == 'softplus':\n",
    "        return nn.Softplus()\n",
    "    elif s_act == 'linear':\n",
    "        return None\n",
    "    elif s_act == 'tanh':\n",
    "        return nn.Tanh()\n",
    "    elif s_act == 'leakyrelu':\n",
    "        return nn.LeakyReLU(0.2, inplace=True)\n",
    "    elif s_act == 'softmax':\n",
    "        return nn.Softmax(dim=1)\n",
    "    else:\n",
    "        raise ValueError(f'Unexpected activation: {s_act}')\n",
    "\n",
    "\n",
    "class FCNet(nn.Module):\n",
    "    def __init__(self, in_dim, out_dim, l_hidden=(50,), activation='sigmoid', out_activation='linear'):\n",
    "        super(FCNet, self).__init__()\n",
    "        l_neurons = tuple(l_hidden) + (out_dim,)\n",
    "        if isinstance(activation, str):\n",
    "            activation = (activation,) * len(l_hidden)\n",
    "        activation = tuple(activation) + (out_activation,)\n",
    "\n",
    "        l_layer = []\n",
    "        prev_dim = in_dim\n",
    "        for i_layer, (n_hidden, act) in enumerate(zip(l_neurons, activation)):\n",
    "            l_layer.append(nn.Linear(prev_dim, n_hidden))\n",
    "            act_fn = get_activation(act)\n",
    "            if act_fn is not None:\n",
    "                l_layer.append(act_fn)\n",
    "            prev_dim = n_hidden\n",
    "\n",
    "        self.net = nn.Sequential(*l_layer)\n",
    "        self.in_dim = in_dim\n",
    "        self.out_shape = (out_dim,) \n",
    "\n",
    "    def forward(self, x):\n",
    "        return self.net(x)\n",
    "    \n",
    "    "
   ]
  },
  {
   "cell_type": "markdown",
   "metadata": {},
   "source": [
    "# IOU Definition"
   ]
  },
  {
   "cell_type": "code",
   "execution_count": 8,
   "metadata": {},
   "outputs": [],
   "source": [
    "def iou(ytrue, yprediction):\n",
    "    yp = yprediction\n",
    "    yt = ytrue\n",
    "    yp = yp > 0.5 + 0\n",
    "    intersect = np.sum(np.minimum(yp, yt),1)\n",
    "    union = np.sum(np.maximum(yp, yt),1)\n",
    "    return np.average(intersect / (union+0.0))"
   ]
  },
  {
   "cell_type": "markdown",
   "metadata": {},
   "source": [
    "# Training"
   ]
  },
  {
   "cell_type": "code",
   "execution_count": null,
   "metadata": {},
   "outputs": [
    {
     "name": "stdout",
     "output_type": "stream",
     "text": [
      "Epoch 0, Batch Loss: 1.98e+08, IOU - Train: 0.218 Test: 0.279\n",
      "197535219.49900392\n",
      "Epoch 1, Batch Loss: 2.03e+09, IOU - Train: 0.15 Test: 0.279\n",
      "2034841556.3917944\n",
      "Epoch 2, Batch Loss: 1.1e+07, IOU - Train: 0.00395 Test: 0.279\n",
      "10950919.498243121\n"
     ]
    }
   ],
   "source": [
    "model = 'FCNet'\n",
    "lr = 1e-5\n",
    "stepsize= 0.1\n",
    "n_steps = 100\n",
    "n_epoch = 10\n",
    "alpha = 1\n",
    "train_iou = []\n",
    "val_iou = []\n",
    "test_iou = []\n",
    "best_val_iou = -1\n",
    "best_test_iou = -1\n",
    "\n",
    "def predict_labels(x, y):\n",
    "    for i, j in enumerate(x):\n",
    "        model.eval()\n",
    "        j = np.mean(j.reshape(image_size, image_size, 3), axis=2).reshape(32,32,1)\n",
    "        pos_out = model(torch.from_numpy(j).float())\n",
    "        neg_out = model(torch.from_numpy(y[i]).reshape(-1, image_size, image_size,1).float())\n",
    "        \n",
    "        predictions = np.squeeze(np.array(((pos_out - neg_out) + alpha * (pos_out ** 2 + neg_out ** 2)).detach().numpy()))\n",
    "        return predictions\n",
    "\n",
    "\n",
    "# build model\n",
    "if model == 'FCNet':\n",
    "    model = FCNet(in_dim=1, out_dim=1, l_hidden=(100, 100), activation='relu', out_activation='linear')\n",
    "\n",
    "opt = Adam(model.parameters(), lr=lr)\n",
    "    \n",
    "for i_epoch in range(n_epoch):\n",
    "    l_loss = []\n",
    "    j=0\n",
    "    for i in xdata:\n",
    "        pos_x = i\n",
    "        \n",
    "        pos_x = np.mean(pos_x.reshape(image_size, image_size, 3), axis=2).reshape(32,32,1)\n",
    "        pos_x = torch.from_numpy(pos_x)    \n",
    "        neg_x = torch.randn(torch.from_numpy(ydata[j]).size())\n",
    "        neg_x = neg_x.reshape(-1, image_size, image_size,1)\n",
    "        j=j+1\n",
    "        neg_x = sample_langevin(neg_x.float(), model, stepsize, n_steps, intermediate_samples=False)\n",
    "        opt.zero_grad()\n",
    "        pos_out = model(pos_x.float())\n",
    "        neg_out = model(neg_x)        \n",
    "#         loss = (pos_out - neg_out) + alpha * (pos_out ** 2 + neg_out ** 2)\n",
    "        loss = (alpha*(pos_out/neg_out) - (pos_out-neg_out))**2\n",
    "#         loss = (alpha*(min(pos_out)/max(neg_out)) - (pos_out - neg_out))**2\n",
    "        loss = loss.mean()\n",
    "        loss.backward()        \n",
    "        torch.nn.utils.clip_grad_norm_(model.parameters(), max_norm=0.1)\n",
    "        opt.step()        \n",
    "        l_loss.append(loss.item())\n",
    "        \n",
    "    ydata_pred = predict_labels(xdata, ydata)\n",
    "    yval_pred = predict_labels(xval, yval)\n",
    "    ytest_pred = predict_labels(xtest, ytest)\n",
    "    \n",
    "    train_iou.append(iou(ydata, ydata_pred.reshape(1,1024)))\n",
    "    val_iou.append(iou(yval, yval_pred.reshape(1,1024)))\n",
    "    test_iou.append(iou(ytest, ytest_pred.reshape(1,1024)))\n",
    "\n",
    "    if val_iou[-1] > best_val_iou:\n",
    "        best_test_iou = test_iou[-1]\n",
    "        best_val_iou = val_iou[-1]\n",
    "        display.clear_output(wait=False)\n",
    "\n",
    "    print(\"Epoch {}, Batch Loss: {:0.3}, IOU - Train: {:0.3} Test: {:0.3}\".format(i_epoch, np.mean(l_loss), train_iou[-1], best_test_iou))\n",
    "\n",
    "    fig, ax = plt.subplots(1,1)\n",
    "    pd.Series(train_iou).plot(ax=ax)\n",
    "    pd.Series(val_iou).plot(ax=ax)\n",
    "    pd.Series(test_iou).plot(ax=ax)\n",
    "    fig.canvas.draw()\n",
    "\n",
    "    print(np.mean(l_loss))"
   ]
  },
  {
   "cell_type": "markdown",
   "metadata": {},
   "source": [
    "# First horse"
   ]
  },
  {
   "cell_type": "code",
   "execution_count": 31,
   "metadata": {},
   "outputs": [
    {
     "data": {
      "image/png": "[encoded data removed]",
      "text/plain": [
       "<Figure size 432x288 with 1 Axes>"
      ]
     },
     "metadata": {
      "needs_background": "light"
     },
     "output_type": "display_data"
    }
   ],
   "source": [
    "iter_ = 0\n",
    "while iter_ < 2:\n",
    "    model.eval()\n",
    "    i = xdata[iter_]\n",
    "    j = ydata[iter_]\n",
    "    i = np.mean(i.reshape(image_size, image_size, 3), axis=2).reshape(32,32,1)\n",
    "    pos_out = model(torch.from_numpy(i).float())\n",
    "    neg_out = model(torch.from_numpy(j).reshape(-1, image_size, image_size,1).float())\n",
    "    reconstructed = np.squeeze(np.array(model(pos_out).detach().numpy()))\n",
    "    plt.imshow(reconstructed, cmap='gray')\n",
    "    iter_ = iter_+1"
   ]
  },
  {
   "cell_type": "code",
   "execution_count": null,
   "metadata": {},
   "outputs": [],
   "source": []
  }
 ],
 "metadata": {
  "kernelspec": {
   "display_name": "Python 3",
   "language": "python",
   "name": "python3"
  },
  "language_info": {
   "codemirror_mode": {
    "name": "ipython",
    "version": 3
   },
   "file_extension": ".py",
   "mimetype": "text/x-python",
   "name": "python",
   "nbconvert_exporter": "python",
   "pygments_lexer": "ipython3",
   "version": "3.8.3"
  }
 },
 "nbformat": 4,
 "nbformat_minor": 4
}
